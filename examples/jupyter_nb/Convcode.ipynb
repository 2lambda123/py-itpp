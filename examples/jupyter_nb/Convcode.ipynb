{
 "cells": [
  {
   "cell_type": "markdown",
   "metadata": {},
   "source": [
    "# MIMO (spatial multiplexing) with convolutional coding\n",
    "\n",
    "This example demonstrates how to use the Modulator_ND (MIMO) class for soft-output demodulation. The program simulates a simple convolutionally coded spatial-multiplexing (V-BLAST style) MIMO system with maximum-likelihood, alternatively zero-forcing, demodulation and soft Viterbi decoding, but no iteration between the demodulator and the decoder."
   ]
  },
  {
   "cell_type": "code",
   "execution_count": 1,
   "metadata": {},
   "outputs": [],
   "source": [
    "import py_itpp as pyp"
   ]
  },
  {
   "cell_type": "code",
   "execution_count": 2,
   "metadata": {},
   "outputs": [],
   "source": [
    "# Modulation and channel parameters\n",
    "\n",
    "constellation_index = 2       # type of constellation  (1=QPSK, 2=16-QAM, 3=64-QAM)\n",
    "nrof_rx = 4                   # number of receive antennas\n",
    "nrof_tx = 4                   # number of transmit antennas\n",
    "coherence_time = 10           # coherence time in number of channel samples (same coefficients within coherence interval)\n",
    "\n",
    "# simulation control parameters\n",
    "snr_range_db = pyp.vec.vec('-5:0.5:10') # SNR range (Eb / N0 in dBs)\n",
    "nrof_methods = 2              # number of demodulators to try\n",
    "nrof_max_bits = 50000000      # maximum number of bits to ever simulate per SNR point\n",
    "nrof_info_bits = 1000         # length of data packet (before applying channel coding)\n"
   ]
  },
  {
   "cell_type": "code",
   "execution_count": 3,
   "metadata": {},
   "outputs": [],
   "source": [
    "# Set performance targets\n",
    "if (coherence_time == 1):     # Fast fading channel, BER is of primary interest\n",
    "    ber_min = 0.001           # stop simulating a given method if BER < BER_min\n",
    "    fer_min = -1              # do not stop on this condition\n",
    "    nrof_bers = 1000          # move to next SNR point after counting nrof_bers bit errors\n",
    "    nrof_fers = -1            # do not stop on this condition\n",
    "    \n",
    "else:                         # Slow fading channel, FER is of primary interest here\n",
    "    ber_min = -1              # do not stop on this condition\n",
    "    fer_min = 0.01            # stop simulating a given method if FER < FER_min\n",
    "    nrof_bers = -1            # do not stop on this condition\n",
    "    nrof_fers = 200           # move to next SNR point after counting nrof_fers frame errors"
   ]
  },
  {
   "cell_type": "code",
   "execution_count": 5,
   "metadata": {},
   "outputs": [],
   "source": [
    "# Channel code parameters\n",
    "code = pyp.convcode.Convolutional_Code()\n",
    "generator = pyp.vec.ivec('0133 0165 0171') # use rate 1/3 code\n",
    "rate = 1.0 / 3.0\n",
    "\n",
    "code.set_generator_polynomials(generator, 7)\n",
    "dummy = pyp.vec.bvec()\n",
    "\n",
    "code.encode_tail(pyp.random.randb(nrof_info_bits), dummy)\n",
    "nrof_coded_bits = dummy.length()  # find out how long the coded blocks are"
   ]
  },
  {
   "cell_type": "code",
   "execution_count": 6,
   "metadata": {},
   "outputs": [
    {
     "ename": "SyntaxError",
     "evalue": "invalid syntax (<ipython-input-6-6117c7356659>, line 7)",
     "output_type": "error",
     "traceback": [
      "\u001b[0;36m  File \u001b[0;32m\"<ipython-input-6-6117c7356659>\"\u001b[0;36m, line \u001b[0;32m7\u001b[0m\n\u001b[0;31m    pyp.ND_UQAM chan;\u001b[0m\n\u001b[0m                   ^\u001b[0m\n\u001b[0;31mSyntaxError\u001b[0m\u001b[0;31m:\u001b[0m invalid syntax\n"
     ]
    }
   ],
   "source": [
    "# Initialize\n",
    "nrof_transmit_bits = int(2 * coherence_time * nrof_tx * ceil(double(Nc) / double(2 * coherence_time * nrof_tx))) # Total number of bits to transmit\n",
    "nrof_transmit_channels = nrof_transmit_bits / (2 * coherence_time * nrof_tx) # Number of channel vectors to transmit\n",
    "nrof_bits_per_channel = 2 * coherence_time * nrof_tx                         # Number of bits per channel vector\n",
    "\n",
    "# initialize MIMO channel with uniform QAM per complex dimension and Gray coding\n",
    "pyp.ND_UQAM chan;\n",
    "\n",
    "chan.set_M(nrof_tx, 1 << (2*nC))\n",
    "\n",
    "print(chan)\n",
    "\n",
    "# initialize interleaver\n",
    "pyp.Sequence_Interleaver<bin> sequence_interleaver_b(Nctx);\n",
    "Sequence_Interleaver<int> sequence_interleaver_i(Nctx);\n",
    "\n",
    "sequence_interleaver_b.randomize_interleaver_sequence();\n",
    "sequence_interleaver_i.set_interleaver_sequence(sequence_interleaver_b.get_interleaver_sequence());"
   ]
  },
  {
   "cell_type": "code",
   "execution_count": null,
   "metadata": {},
   "outputs": [],
   "source": []
  }
 ],
 "metadata": {
  "kernelspec": {
   "display_name": "Python 3",
   "language": "python",
   "name": "python3"
  },
  "language_info": {
   "codemirror_mode": {
    "name": "ipython",
    "version": 3
   },
   "file_extension": ".py",
   "mimetype": "text/x-python",
   "name": "python",
   "nbconvert_exporter": "python",
   "pygments_lexer": "ipython3",
   "version": "3.6.4"
  }
 },
 "nbformat": 4,
 "nbformat_minor": 2
}
