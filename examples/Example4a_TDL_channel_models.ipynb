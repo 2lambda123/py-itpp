{
 "cells": [
  {
   "cell_type": "markdown",
   "metadata": {},
   "source": [
    "# Tapped Delay Line (TDL) channel models"
   ]
  },
  {
   "cell_type": "code",
   "execution_count": null,
   "metadata": {
    "scrolled": true
   },
   "outputs": [],
   "source": [
    "#Import stuff\n",
    "import py_itpp as pyp\n",
    "from matplotlib import pyplot as plt"
   ]
  },
  {
   "cell_type": "markdown",
   "metadata": {},
   "source": [
    "# Set up channel\n",
    "We set up a fading channel. py-itpp supports stochastic tapped delay line (TDL) channel models. In case of TDL channels, the channel impulse response is modeled as several time-delayed 'taps', where each tap is a random variable with a defined . The channel response is therefore,\n",
    "$$h = \\sum_{p=1}^{P}\\delta(t-\\tau_p)h(\\tau_p)$$,\n",
    "where $P$ is the number of taps and $h$ is the amplitude,modeled as a Rayleigh fading distribution.\n",
    "Currently, there is no support for spatial / geometric channel models. The following TDL channel profiles are supported by py-itpp:\n",
    "\n",
    "ITU_Vehicular_A,\n",
    "ITU_Vehicular_B, \n",
    "ITU_Pedestrian_A,\n",
    "ITU_Pedestrian_B,\n",
    "COST207_RA,\n",
    "COST207_RA6,\n",
    "COST207_TU,\n",
    "COST207_TU6alt,\n",
    "COST207_TU12,\n",
    "COST207_TU12alt,\n",
    "COST207_HT,\n",
    "COST207_HT6alt,\n",
    "COST207_HT12,\n",
    "COST207_HT12alt,\n",
    "COST259_TUx,\n",
    "COST259_RAx,\n",
    "COST259_RAx."
   ]
  },
  {
   "cell_type": "code",
   "execution_count": null,
   "metadata": {},
   "outputs": [],
   "source": [
    "sampling_interval = 1e-8\n",
    "\n",
    "channel_spec = pyp.comm.Channel_Specification(pyp.comm.CHANNEL_PROFILE.ITU_Vehicular_A)\n",
    "channel = pyp.comm.TDL_Channel(channel_spec, sampling_interval)\n",
    "\n",
    "norm_doppler = 30 * sampling_interval\n",
    "channel.set_norm_doppler(norm_doppler)"
   ]
  },
  {
   "cell_type": "markdown",
   "metadata": {},
   "source": [
    "# Print channel properties"
   ]
  },
  {
   "cell_type": "code",
   "execution_count": null,
   "metadata": {},
   "outputs": [],
   "source": [
    "nrof_taps = channel.taps()\n",
    "print('Number of taps: ' + str(nrof_taps))\n",
    "\n",
    "avg_power_db = pyp.vec()\n",
    "tap_delay = pyp.ivec()\n",
    "channel.get_channel_profile(avg_power_db, tap_delay)\n",
    "print('Channel Profile')\n",
    "print('Avg power [dB]', '\\t\\tDelay [samples]')\n",
    "for tap_index in range(nrof_taps):\n",
    "    print(avg_power_db[tap_index], '\\t', tap_delay[tap_index])"
   ]
  },
  {
   "cell_type": "markdown",
   "metadata": {},
   "source": [
    "# Generate a few channel samples"
   ]
  },
  {
   "cell_type": "code",
   "execution_count": null,
   "metadata": {},
   "outputs": [],
   "source": [
    "nrof_samples = 100\n",
    "time_offset = 1e6 # Jump ahead to see variation in channel\n",
    "\n",
    "channel_coeff = pyp.cmat()\n",
    "channel_coeff.set_size(nrof_samples, nrof_taps, False)\n",
    "\n",
    "for sample_index in range(nrof_samples):\n",
    "    sampling_time = int(sample_index * time_offset)\n",
    "    channel.shift_time_offset(sampling_time)\n",
    "    \n",
    "    sample_channel_coeff = pyp.cmat()\n",
    "    channel.generate(1, sample_channel_coeff)\n",
    "    \n",
    "    channel_coeff.set_row(sample_index, sample_channel_coeff.get_row(0))"
   ]
  },
  {
   "cell_type": "markdown",
   "metadata": {},
   "source": [
    "# Plot channel response"
   ]
  },
  {
   "cell_type": "code",
   "execution_count": null,
   "metadata": {},
   "outputs": [],
   "source": [
    "channel_coeff_np = channel_coeff.to_numpy_ndarray()\n",
    "\n",
    "plt.figure()\n",
    "plt.grid(True)\n",
    "legend_strings = []\n",
    "for tap in range(nrof_taps):\n",
    "    plt.semilogy(abs(channel_coeff_np[:, tap]))\n",
    "    legend_strings.append('Tap ' + str(tap))\n",
    "\n",
    "plt.legend(legend_strings)\n",
    "plt.title('Channel Magnitude Response')\n",
    "plt.xlabel('Sample')\n",
    "plt.ylabel('Magnitude')"
   ]
  },
  {
   "cell_type": "markdown",
   "metadata": {},
   "source": [
    "# Plot channel frequency response"
   ]
  },
  {
   "cell_type": "code",
   "execution_count": null,
   "metadata": {},
   "outputs": [],
   "source": [
    "freq_resp = pyp.cmat()\n",
    "\n",
    "channel.calc_frequency_response(channel_coeff, freq_resp, fft_size=256)\n",
    "\n",
    "freq_resp_np = freq_resp.to_numpy_ndarray()\n",
    "\n",
    "plt.figure()\n",
    "plt.grid(True)\n",
    "legend_strings = []\n",
    "for frame_index in range(10):\n",
    "    plt.semilogy(abs(freq_resp_np[:, frame_index]))\n",
    "    legend_strings.append('Sample ' + str(frame_index))\n",
    "\n",
    "plt.legend(legend_strings)\n",
    "plt.title('Channel Frequency Response')\n",
    "plt.xlabel('Subcarrier')\n",
    "plt.ylabel('Magnitude')"
   ]
  },
  {
   "cell_type": "code",
   "execution_count": null,
   "metadata": {},
   "outputs": [],
   "source": []
  }
 ],
 "metadata": {
  "kernelspec": {
   "display_name": "Python 3",
   "language": "python",
   "name": "python3"
  },
  "language_info": {
   "codemirror_mode": {
    "name": "ipython",
    "version": 3
   },
   "file_extension": ".py",
   "mimetype": "text/x-python",
   "name": "python",
   "nbconvert_exporter": "python",
   "pygments_lexer": "ipython3",
   "version": "3.6.4"
  }
 },
 "nbformat": 4,
 "nbformat_minor": 2
}
