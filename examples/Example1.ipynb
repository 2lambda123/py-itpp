{
 "cells": [
  {
   "cell_type": "markdown",
   "metadata": {},
   "source": [
    "# Simulation of a convolutional encoder and decoder\n",
    "\n",
    "In this example we will show how to use the convolutional encoder/decoder class in py-itpp. The Viterbi decoder uses the soft received values. Original C++ version of this example is available at http://itpp.sourceforge.net/4.3.1/convcode.html."
   ]
  },
  {
   "cell_type": "code",
   "execution_count": 2,
   "metadata": {},
   "outputs": [],
   "source": [
    "# Imports\n",
    "import py_itpp as pyp\n",
    "from matplotlib import pyplot as plt"
   ]
  },
  {
   "cell_type": "code",
   "execution_count": 10,
   "metadata": {},
   "outputs": [],
   "source": [
    "#  Set up the convolutional encoder/decoder class:\n",
    "#  In this example we will simulate a rate 1/3 code that is listed in J. G. Proakis,\n",
    "#  \"Digital communications\". The encoder has constraint length 7.\n",
    "conv_code = pyp.convcode.Convolutional_Code()\n",
    "\n",
    "generators = pyp.vec.ivec(3)\n",
    "generators[0] = 91  # Octal 0133\n",
    "generators[1] = 101 # Octal 0145\n",
    "generators[2] = 125 # Octal 0175\n",
    "constraint_length = 7\n",
    "conv_code.set_generator_polynomials(generators, constraint_length)\n",
    "\n",
    "# Initialize BPSK modulator\n",
    "bpsk = pyp.modulator.BPSK()\n",
    "\n",
    "# Initialize an AWGN channel\n",
    "channel = pyp.channel.AWGN_Channel(noisevar=0)\n",
    "\n",
    "# Initialize bit error counter\n",
    "berc = pyp.error_counters.BERC(indelay=0, inignorefirst=0, inignorelast=0)"
   ]
  },
  {
   "cell_type": "code",
   "execution_count": 11,
   "metadata": {},
   "outputs": [],
   "source": [
    "# Calculate some simulation specific parameters\n",
    "EbN0_dB = pyp.vec.vec('-10:0.5:10')\n",
    "EbN0 = pyp.log_exp.inv_dB(EbN0_dB)\n",
    "\n",
    "energy_per_bit = 1.0 / conv_code.get_rate()\n",
    "noise_variance = energy_per_bit * pyp.log_exp.pow(EbN0_dB, -1.0)\n",
    "\n",
    "nrof_bits = 10000 # Number of bits\n",
    "max_errors = 100\n",
    "max_iterations = 10\n",
    "\n",
    "ber = pyp.vec.vec(EbN0_dB.length())\n",
    "ber.clear()"
   ]
  },
  {
   "cell_type": "code",
   "execution_count": 12,
   "metadata": {},
   "outputs": [
    {
     "name": "stdout",
     "output_type": "stream",
     "text": [
      "Now simulating point 1 out of 41 with EbN0_dB = -10.00\n",
      "Breaking on point 1 with 5016 errors\n",
      "Now simulating point 2 out of 41 with EbN0_dB = -9.50\n",
      "Breaking on point 2 with 4959 errors\n",
      "Now simulating point 3 out of 41 with EbN0_dB = -9.00\n",
      "Breaking on point 3 with 4974 errors\n",
      "Now simulating point 4 out of 41 with EbN0_dB = -8.50\n",
      "Breaking on point 4 with 4951 errors\n",
      "Now simulating point 5 out of 41 with EbN0_dB = -8.00\n",
      "Breaking on point 5 with 5010 errors\n",
      "Now simulating point 6 out of 41 with EbN0_dB = -7.50\n",
      "Breaking on point 6 with 5086 errors\n",
      "Now simulating point 7 out of 41 with EbN0_dB = -7.00\n",
      "Breaking on point 7 with 4979 errors\n",
      "Now simulating point 8 out of 41 with EbN0_dB = -6.50\n",
      "Breaking on point 8 with 5094 errors\n",
      "Now simulating point 9 out of 41 with EbN0_dB = -6.00\n",
      "Breaking on point 9 with 5026 errors\n",
      "Now simulating point 10 out of 41 with EbN0_dB = -5.50\n",
      "Breaking on point 10 with 5028 errors\n",
      "Now simulating point 11 out of 41 with EbN0_dB = -5.00\n",
      "Breaking on point 11 with 5087 errors\n",
      "Now simulating point 12 out of 41 with EbN0_dB = -4.50\n",
      "Breaking on point 12 with 4966 errors\n",
      "Now simulating point 13 out of 41 with EbN0_dB = -4.00\n",
      "Breaking on point 13 with 5039 errors\n",
      "Now simulating point 14 out of 41 with EbN0_dB = -3.50\n",
      "Breaking on point 14 with 4929 errors\n",
      "Now simulating point 15 out of 41 with EbN0_dB = -3.00\n",
      "Breaking on point 15 with 5029 errors\n",
      "Now simulating point 16 out of 41 with EbN0_dB = -2.50\n",
      "Breaking on point 16 with 4973 errors\n",
      "Now simulating point 17 out of 41 with EbN0_dB = -2.00\n",
      "Breaking on point 17 with 5084 errors\n",
      "Now simulating point 18 out of 41 with EbN0_dB = -1.50\n",
      "Breaking on point 18 with 4948 errors\n",
      "Now simulating point 19 out of 41 with EbN0_dB = -1.00\n",
      "Breaking on point 19 with 4986 errors\n",
      "Now simulating point 20 out of 41 with EbN0_dB = -0.50\n",
      "Breaking on point 20 with 5041 errors\n",
      "Now simulating point 21 out of 41 with EbN0_dB = 0.00\n",
      "Breaking on point 21 with 4943 errors\n",
      "Now simulating point 22 out of 41 with EbN0_dB = 0.50\n",
      "Breaking on point 22 with 4120 errors\n",
      "Now simulating point 23 out of 41 with EbN0_dB = 1.00\n",
      "Breaking on point 23 with 991 errors\n",
      "Now simulating point 24 out of 41 with EbN0_dB = 1.50\n",
      "Breaking on point 24 with 151 errors\n",
      "Now simulating point 25 out of 41 with EbN0_dB = 2.00\n",
      "Now simulating point 26 out of 41 with EbN0_dB = 2.50\n",
      "Now simulating point 27 out of 41 with EbN0_dB = 3.00\n",
      "Now simulating point 28 out of 41 with EbN0_dB = 3.50\n",
      "Now simulating point 29 out of 41 with EbN0_dB = 4.00\n",
      "Now simulating point 30 out of 41 with EbN0_dB = 4.50\n",
      "Now simulating point 31 out of 41 with EbN0_dB = 5.00\n",
      "Now simulating point 32 out of 41 with EbN0_dB = 5.50\n",
      "Now simulating point 33 out of 41 with EbN0_dB = 6.00\n",
      "Now simulating point 34 out of 41 with EbN0_dB = 6.50\n",
      "Now simulating point 35 out of 41 with EbN0_dB = 7.00\n",
      "Now simulating point 36 out of 41 with EbN0_dB = 7.50\n",
      "Now simulating point 37 out of 41 with EbN0_dB = 8.00\n",
      "Now simulating point 38 out of 41 with EbN0_dB = 8.50\n",
      "Now simulating point 39 out of 41 with EbN0_dB = 9.00\n",
      "Now simulating point 40 out of 41 with EbN0_dB = 9.50\n",
      "Now simulating point 41 out of 41 with EbN0_dB = 10.00\n"
     ]
    }
   ],
   "source": [
    "# Randomize the random number generators\n",
    "pyp.random.RNG_reset(42)\n",
    "\n",
    "transmitted_symbols = pyp.vec.vec()\n",
    "for p in range(EbN0_dB.length()):\n",
    "    print('Now simulating point %d out of %d with EbN0_dB = %.2f'%(p + 1, EbN0_dB.length(), EbN0_dB[p]))\n",
    "    berc.clear()  # Clear the bit error rate counter.\n",
    "    channel.set_noise(noise_variance[p] / 2.0);  # Set the noise value of the AWGN channel.\n",
    "    for i in range(max_iterations):\n",
    "      uncoded_bits = pyp.random.randb(nrof_bits)            #The uncoded bits.\n",
    "      coded_bits = conv_code.encode(uncoded_bits)           # The convolutional encoder function.\n",
    "      bpsk.modulate_bits(coded_bits, transmitted_symbols)   # The BPSK modulator.\n",
    "      received_symbols = channel(transmitted_symbols)       # The AWGN channel.\n",
    "      decoded_bits = conv_code.decode(received_symbols)     # The Viterbi decoder function.\n",
    "      berc.count(uncoded_bits, decoded_bits)                # Count the errors.\n",
    "          \n",
    "      ber[p] = berc.get_errorrate()\n",
    "      \n",
    "      # Break the simulation on this point if sufficient number of bit errors were observed\n",
    "      if (berc.get_errors() > max_errors):\n",
    "        print('Breaking on point %d with %d errors'%(p + 1, berc.get_errors()))\n",
    "        break"
   ]
  },
  {
   "cell_type": "code",
   "execution_count": 13,
   "metadata": {},
   "outputs": [
    {
     "name": "stdout",
     "output_type": "stream",
     "text": [
      "[0.5016 0.4959 0.4974 0.4951 0.501 0.5086 0.4979 0.5094 0.5026 0.5028 0.5087 0.4966 0.5039 0.4929 0.5029 0.4973 0.5084 0.4948 0.4986 0.5041 0.4943 0.412 0.0991 0.00302 0.00023 0 0 0 0 0 0 0 0 0 0 0 0 0 0 0 0]\n",
      "[-10 -9.5 -9 -8.5 -8 -7.5 -7 -6.5 -6 -5.5 -5 -4.5 -4 -3.5 -3 -2.5 -2 -1.5 -1 -0.5 0 0.5 1 1.5 2 2.5 3 3.5 4 4.5 5 5.5 6 6.5 7 7.5 8 8.5 9 9.5 10]\n"
     ]
    },
    {
     "data": {
      "image/png": "[encoded data removed]",
      "text/plain": [
       "<matplotlib.figure.Figure at 0x7fae9c0077b8>"
      ]
     },
     "metadata": {},
     "output_type": "display_data"
    }
   ],
   "source": [
    "print(ber)\n",
    "print(EbN0_dB)\n",
    "\n",
    "#Plot the results:\n",
    "plt.figure()\n",
    "plt.plot(EbN0_dB.to_numpy_ndarray(), ber.to_numpy_ndarray())\n",
    "plt.xlabel('EbN0_dB')\n",
    "plt.ylabel('BER')\n",
    "plt.show()"
   ]
  },
  {
   "cell_type": "code",
   "execution_count": null,
   "metadata": {},
   "outputs": [],
   "source": []
  }
 ],
 "metadata": {
  "kernelspec": {
   "display_name": "Python 3",
   "language": "python",
   "name": "python3"
  },
  "language_info": {
   "codemirror_mode": {
    "name": "ipython",
    "version": 3
   },
   "file_extension": ".py",
   "mimetype": "text/x-python",
   "name": "python",
   "nbconvert_exporter": "python",
   "pygments_lexer": "ipython3",
   "version": "3.6.4"
  }
 },
 "nbformat": 4,
 "nbformat_minor": 2
}
