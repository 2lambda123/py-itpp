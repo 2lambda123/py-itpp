{
 "cells": [
  {
   "cell_type": "markdown",
   "metadata": {},
   "source": [
    "# MIMO (spatial multiplexing) with convolutional coding\n",
    "\n",
    "This example demonstrates how to use the Modulator_ND (MIMO) class for soft-output demodulation. The program simulates a simple convolutionally coded spatial-multiplexing (V-BLAST style) MIMO system with maximum-likelihood, alternatively zero-forcing, demodulation and soft Viterbi decoding, but no iteration between the demodulator and the decoder. Original C++ version of this example is available at http://itpp.sourceforge.net/4.3.1/mimoconv.html."
   ]
  },
  {
   "cell_type": "code",
   "execution_count": 11,
   "metadata": {},
   "outputs": [],
   "source": [
    "# Imports\n",
    "import py_itpp as pyp\n",
    "from matplotlib import pyplot as plt"
   ]
  },
  {
   "cell_type": "code",
   "execution_count": 12,
   "metadata": {},
   "outputs": [
    {
     "name": "stdout",
     "output_type": "stream",
     "text": [
      "Initializing 4 transmit antennas, 4 receive antennas, 2-PAM per dimension, 10 coherent samples\n"
     ]
    }
   ],
   "source": [
    "#  Set up the convolutional encoder/decoder class:\n",
    "#  In this example we will simulate a rate 1/3 code that is listed in J. G. Proakis,\n",
    "#  \"Digital communications\". The encoder has constraint length 7.\n",
    "conv_code = pyp.convcode.Convolutional_Code()\n",
    "\n",
    "generators = pyp.vec.ivec(3)\n",
    "generators[0] = 91  # Octal 0133\n",
    "generators[1] = 101 # Octal 0145\n",
    "generators[2] = 125 # Octal 0175\n",
    "constraint_length = 7\n",
    "conv_code.set_generator_polynomials(generators, constraint_length)\n",
    "\n",
    "nrof_uncoded_bits = 1000 # Information bits in packet\n",
    "\n",
    "dummy = pyp.vec.bvec()\n",
    "conv_code.encode_tail(pyp.random.randb(nrof_uncoded_bits), dummy)\n",
    "nrof_coded_bits = dummy.length() # find out how long the coded blocks are\n",
    "rate = float(nrof_uncoded_bits) / float(nrof_coded_bits)\n",
    "\n",
    "constellation_index = 1 # 1=QPSK, 2=16-QAM, 3=64-QAM\n",
    "nrof_transmit_antenna = 4\n",
    "nrof_receive_antenna = 4\n",
    "nrof_coherent_samples = 10 # coherence time (number of channel samples with same coefficients)\n",
    "    \n",
    "nrof_bits_per_channel_use = 2 * constellation_index * nrof_transmit_antenna\n",
    "nrof_channel_use = int(nrof_coded_bits / nrof_bits_per_channel_use)\n",
    "nrof_transmit_bits = nrof_bits_per_channel_use * nrof_channel_use\n",
    "\n",
    "# initialize MIMO channel with uniform QAM per complex dimension and Gray coding\n",
    "mimo_modulator = pyp.modulator_nd.ND_UQAM(nrof_transmit_antenna, int(pyp.log_exp.pow(2, 2 * constellation_index)))\n",
    "\n",
    "# initialize interleaver\n",
    "sequence_interleaver_b = pyp.interleave.sequence_interleaver_bin(nrof_coded_bits)\n",
    "sequence_interleaver_i = pyp.interleave.sequence_interleaver_int(nrof_coded_bits)\n",
    "\n",
    "sequence_interleaver_b.randomize_interleaver_sequence()\n",
    "sequence_interleaver_i.set_interleaver_sequence(sequence_interleaver_b.get_interleaver_sequence())\n",
    "\n",
    "print(\"Initializing %d transmit antennas, %d receive antennas, %d-PAM per dimension, %d coherent samples\"\n",
    "      %(nrof_transmit_antenna, nrof_receive_antenna, pyp.log_exp.pow(2, constellation_index), nrof_coherent_samples))\n",
    "\n",
    "# simulation control parameters\n",
    "EbN0_db = pyp.vec.vec('-10:1:10') # SNR range\n",
    "nrof_max_bits = 50000             # maximum number of bits to ever simulate per SNR point\n",
    "\n",
    "if (nrof_coherent_samples == 1):   # Fast fading channel, BER is of primary interest\n",
    "    ber_min = 0.001      # stop simulating a given method if BER<this value\n",
    "    fer_min = -1         # do not stop on this condition\n",
    "    nrof_bers = 2000     # move to next SNR point after counting 2000 bit errors\n",
    "    nrof_fers = -1       # do not stop on this condition\n",
    "else:                              # Slow fading channel, FER is of primary interest here\n",
    "    ber_min = -1         # do not stop on this condition\n",
    "    fer_min = 0.01       # stop simulating a given method if FER<this value\n",
    "    nrof_bers = -1       # do not stop on this condition\n",
    "    nrof_fers = 200      # move to next SNR point after counting 200 frame errors\n",
    "\n",
    "if (pyp.log_exp.pow(2.0, nrof_bits_per_channel_use) > 256):   # ML decoder too complex\n",
    "  print('WARNING: ML decoder too complex, try approximate approach')\n",
    "\n",
    "if (nrof_transmit_antenna > nrof_receive_antenna):\n",
    "  print('WARNING: Undetermined system, do not use ZF decoder ')"
   ]
  },
  {
   "cell_type": "code",
   "execution_count": 13,
   "metadata": {
    "scrolled": true
   },
   "outputs": [
    {
     "name": "stdout",
     "output_type": "stream",
     "text": [
      "Eb/N0: -10.00 dB, simulated bits: 50000, Uncoded BER: 0.32, Coded BER: 0.46, Coded FER: 1.00\n",
      "Eb/N0: -9.00 dB, simulated bits: 50000, Uncoded BER: 0.31, Coded BER: 0.45, Coded FER: 1.00\n",
      "Eb/N0: -8.00 dB, simulated bits: 50000, Uncoded BER: 0.29, Coded BER: 0.40, Coded FER: 1.00\n",
      "Eb/N0: -7.00 dB, simulated bits: 50000, Uncoded BER: 0.27, Coded BER: 0.34, Coded FER: 1.00\n",
      "Eb/N0: -6.00 dB, simulated bits: 50000, Uncoded BER: 0.25, Coded BER: 0.25, Coded FER: 1.00\n",
      "Eb/N0: -5.00 dB, simulated bits: 50000, Uncoded BER: 0.23, Coded BER: 0.15, Coded FER: 1.00\n",
      "Eb/N0: -4.00 dB, simulated bits: 50000, Uncoded BER: 0.21, Coded BER: 0.06, Coded FER: 1.00\n",
      "Eb/N0: -3.00 dB, simulated bits: 50000, Uncoded BER: 0.19, Coded BER: 0.02, Coded FER: 0.80\n",
      "Eb/N0: -2.00 dB, simulated bits: 50000, Uncoded BER: 0.17, Coded BER: 0.00, Coded FER: 0.28\n",
      "Eb/N0: -1.00 dB, simulated bits: 50000, Uncoded BER: 0.14, Coded BER: 0.00, Coded FER: 0.04\n",
      "Eb/N0: 0.00 dB, simulated bits: 50000, Uncoded BER: 0.12, Coded BER: 0.00, Coded FER: 0.02\n",
      "Eb/N0: 1.00 dB, simulated bits: 50000, Uncoded BER: 0.10, Coded BER: 0.00, Coded FER: 0.00\n",
      "Eb/N0: 2.00 dB, simulated bits: 50000, Uncoded BER: 0.07, Coded BER: 0.00, Coded FER: 0.00\n",
      "Eb/N0: 3.00 dB, simulated bits: 50000, Uncoded BER: 0.05, Coded BER: 0.00, Coded FER: 0.00\n",
      "Eb/N0: 4.00 dB, simulated bits: 50000, Uncoded BER: 0.04, Coded BER: 0.00, Coded FER: 0.00\n",
      "Eb/N0: 5.00 dB, simulated bits: 50000, Uncoded BER: 0.02, Coded BER: 0.00, Coded FER: 0.00\n",
      "Eb/N0: 6.00 dB, simulated bits: 50000, Uncoded BER: 0.02, Coded BER: 0.00, Coded FER: 0.00\n",
      "Eb/N0: 7.00 dB, simulated bits: 50000, Uncoded BER: 0.01, Coded BER: 0.00, Coded FER: 0.00\n",
      "Eb/N0: 8.00 dB, simulated bits: 50000, Uncoded BER: 0.00, Coded BER: 0.00, Coded FER: 0.00\n",
      "Eb/N0: 9.00 dB, simulated bits: 50000, Uncoded BER: 0.00, Coded BER: 0.00, Coded FER: 0.00\n",
      "Eb/N0: 10.00 dB, simulated bits: 50000, Uncoded BER: 0.00, Coded BER: 0.00, Coded FER: 0.00\n"
     ]
    }
   ],
   "source": [
    "# Run simulations\n",
    "pyp.random.RNG_reset(42)\n",
    "received_symbols = [pyp.vec.cvec() for _ in range(nrof_channel_use)]  # received data\n",
    "\n",
    "nrof_channel_samples = int(nrof_channel_use / nrof_coherent_samples) + 1\n",
    "channel_coefficients = [pyp.mat.cmat() for _ in range(nrof_channel_samples)] # channel matrix (new matrix for each coherence interval)\n",
    "\n",
    "uncoded_bit_error_counter = pyp.error_counters.BERC(indelay=0, inignorefirst=0, inignorelast=0)\n",
    "coded_bit_error_counter = pyp.error_counters.BERC(indelay=0, inignorefirst=0, inignorelast=0)\n",
    "frame_error_counter = pyp.error_counters.BLERC(nrof_uncoded_bits)\n",
    "    \n",
    "llr_in = pyp.vec.ivec(nrof_coded_bits)    \n",
    "llr_priori = pyp.vec.ivec(nrof_bits_per_channel_use)  # no a priori input to demodulator\n",
    "llr_posteriori = pyp.vec.ivec(nrof_bits_per_channel_use)\n",
    "    \n",
    "uncoded_bit_error_rate = []\n",
    "coded_bit_error_rate = []\n",
    "frame_error_rate = []\n",
    "for snr_index in range(EbN0_db.length()):\n",
    "\n",
    "  uncoded_bit_error_counter.clear()\n",
    "  coded_bit_error_counter.clear()\n",
    "  frame_error_counter.clear()\n",
    "\n",
    "  energy_per_bit = 1.0 # transmitted energy per information bit\n",
    "  noise_variance = pyp.log_exp.inv_dB(-EbN0_db[snr_index])\n",
    "  energy_per_complex_symbol = rate * 2 * constellation_index * energy_per_bit # Energy per complex scalar symbol\n",
    "\n",
    "  nrof_bits = 0\n",
    "  while (nrof_bits < nrof_max_bits):\n",
    "\n",
    "    nrof_bits = nrof_bits + nrof_uncoded_bits\n",
    "    \n",
    "    # generate and encode random data\n",
    "    information_bits = pyp.random.randb(nrof_uncoded_bits)\n",
    "    transmit_bits = pyp.vec.bvec()\n",
    "    conv_code.encode_tail(information_bits, transmit_bits)\n",
    "    \n",
    "    # coded block length is not always a multiple of the number of transmit bits\n",
    "    transmit_bits = pyp.vec.concat(transmit_bits, pyp.random.randb(nrof_transmit_bits - nrof_coded_bits))\n",
    "    transmit_bits = sequence_interleaver_b.interleave(transmit_bits)\n",
    "        \n",
    "    # generate channel and received symbols\n",
    "    for k in range(nrof_channel_use):\n",
    "      # A complex valued channel matrix is used here. An\n",
    "      # alternative (with equivalent result) would be to use a\n",
    "      # real-valued (structured) channel matrix of twice the dimension.\n",
    "      channel_sample_index = int(k / nrof_coherent_samples)\n",
    "      if (k % nrof_coherent_samples == 0):\n",
    "        channel_coefficients[channel_sample_index] = pyp.elem_math.sqrt(energy_per_complex_symbol) * pyp.random.randn_c(nrof_receive_antenna, nrof_transmit_antenna);\n",
    "        \n",
    "      # modulate transmit bits\n",
    "      bits = transmit_bits.mid(k * nrof_bits_per_channel_use, nrof_bits_per_channel_use)\n",
    "      sym = mimo_modulator.modulate_bits(bits)\n",
    "\n",
    "      noise = pyp.elem_math.sqrt(noise_variance) * pyp.random.randn_c(nrof_receive_antenna)\n",
    "      received_symbols[k] = channel_coefficients[channel_sample_index] * sym + noise\n",
    "        \n",
    "    # demodulate\n",
    "    llr_in.clear()\n",
    "    llr_priori.clear()\n",
    "    llr_posteriori.clear()\n",
    "    for k in range(nrof_channel_use):\n",
    "      channel_sample_index = int(k / nrof_coherent_samples)\n",
    "      recv = received_symbols[k]\n",
    "      chan = channel_coefficients[channel_sample_index]\n",
    "        \n",
    "      mimo_modulator.demodulate_soft_bits(received_symbols[k], channel_coefficients[channel_sample_index], noise_variance, llr_priori, llr_posteriori,\n",
    "                                          pyp.modulator_nd.Soft_Demod_Method.FULL_ENUM_LOGMAP)\n",
    "    \n",
    "\n",
    "      llr_in.set_subvector(k * nrof_bits_per_channel_use, llr_posteriori)\n",
    "    \n",
    "    # decode and count errors\n",
    "    # QLLR values must be converted to real numbers since the convolutional decoder wants this\n",
    "    llr_deinterleaved = sequence_interleaver_i.deinterleave(llr_in, keepzeroes=0)\n",
    "    llr = mimo_modulator.get_llrcalc().to_double(llr_deinterleaved.left(nrof_coded_bits))\n",
    "    decoded_bits = pyp.vec.bvec()\n",
    "    conv_code.decode_tail(llr, decoded_bits)\n",
    "\n",
    "    uncoded_bit_error_counter.count(transmit_bits, (llr_in < 0))   # uncoded BER\n",
    "    coded_bit_error_counter.count(information_bits, decoded_bits)  # coded BER\n",
    "    frame_error_counter.count(information_bits, decoded_bits)      # coded FER\n",
    "    \n",
    "    # Check whether it is time to terminate the simulation.\n",
    "    # Terminate when all demodulators that are still running have\n",
    "    # counted at least nrof_bers or nrof_fers bit/frame errors.\n",
    "    if (nrof_bers > 0 and coded_bit_error_counter.get_errors() > nrof_bers):\n",
    "      break\n",
    "    if (nrof_fers > 0 and frame_error_counter.get_errors() > nrof_fers):\n",
    "      break\n",
    "\n",
    "  uncoded_bit_error_rate.append(uncoded_bit_error_counter.get_errorrate())\n",
    "  coded_bit_error_rate.append(coded_bit_error_counter.get_errorrate())\n",
    "  frame_error_rate.append(frame_error_counter.get_errorrate())\n",
    "  print('Eb/N0: %0.2f dB, simulated bits: %d, Uncoded BER: %0.2f, Coded BER: %0.2f, Coded FER: %0.2f'%(EbN0_db[snr_index],\n",
    "                                                                                                       nrof_bits,\n",
    "                                                                                                       uncoded_bit_error_counter.get_errorrate(),\n",
    "                                                                                                       coded_bit_error_counter.get_errorrate(),\n",
    "                                                                                                       frame_error_counter.get_errorrate()))"
   ]
  },
  {
   "cell_type": "code",
   "execution_count": 14,
   "metadata": {},
   "outputs": [
    {
     "data": {
      "image/png": "[encoded data removed]",
      "text/plain": [
       "<matplotlib.figure.Figure at 0x7fd738975e48>"
      ]
     },
     "metadata": {},
     "output_type": "display_data"
    }
   ],
   "source": [
    "plt.figure()\n",
    "plt.semilogy(EbN0_db.to_numpy_ndarray(), uncoded_bit_error_rate)\n",
    "plt.semilogy(EbN0_db.to_numpy_ndarray(), coded_bit_error_rate)\n",
    "plt.semilogy(EbN0_db.to_numpy_ndarray(), frame_error_rate)\n",
    "plt.legend(['Uncoded BER', 'Coded BER', 'Coded FER'])\n",
    "plt.show()"
   ]
  },
  {
   "cell_type": "code",
   "execution_count": null,
   "metadata": {},
   "outputs": [],
   "source": []
  },
  {
   "cell_type": "code",
   "execution_count": null,
   "metadata": {},
   "outputs": [],
   "source": []
  }
 ],
 "metadata": {
  "kernelspec": {
   "display_name": "Python 3",
   "language": "python",
   "name": "python3"
  },
  "language_info": {
   "codemirror_mode": {
    "name": "ipython",
    "version": 3
   },
   "file_extension": ".py",
   "mimetype": "text/x-python",
   "name": "python",
   "nbconvert_exporter": "python",
   "pygments_lexer": "ipython3",
   "version": "3.6.4"
  }
 },
 "nbformat": 4,
 "nbformat_minor": 2
}
