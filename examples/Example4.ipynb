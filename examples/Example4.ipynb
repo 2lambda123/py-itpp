{
 "cells": [
  {
   "cell_type": "markdown",
   "metadata": {},
   "source": [
    "# Real valued Turbo codes over AWGN channel"
   ]
  },
  {
   "cell_type": "code",
   "execution_count": 1,
   "metadata": {},
   "outputs": [],
   "source": [
    "# Imports \n",
    "import py_itpp as pyp\n",
    "from matplotlib import pyplot as plt"
   ]
  },
  {
   "cell_type": "markdown",
   "metadata": {},
   "source": [
    "# BLER for uncoded over AWGN"
   ]
  },
  {
   "cell_type": "code",
   "execution_count": 2,
   "metadata": {},
   "outputs": [],
   "source": [
    "def block_error_ratio_uncoded_awgn(snr_db, block_size):\n",
    "    '''Generate random bits'''\n",
    "    nrof_bits = 3 * 10000 * block_size\n",
    "    source_bits = pyp.random.randb(nrof_bits)\n",
    "    \n",
    "    '''Modulate the bits'''\n",
    "    modulator_ = pyp.modulator.modulator_1d()\n",
    "    constellation = pyp.vec.vec('-1, 1')\n",
    "    symbols = pyp.vec.ivec('0, 1')\n",
    "    modulator_.set(constellation, symbols)\n",
    "    tx_signal = modulator_.modulate_bits(source_bits)\n",
    "    \n",
    "    '''Add the effect of channel to the signal'''\n",
    "    noise_variance = 1.0 / (pow(10, 0.1 * snr_db))\n",
    "    noise = pyp.random.randn(tx_signal.length())\n",
    "    noise *= pyp.elem_math.sqrt(noise_variance)\n",
    "    rx_signal = tx_signal + noise\n",
    "    \n",
    "    '''Demodulate the signal'''\n",
    "    demodulated_bits = modulator_.demodulate_bits(rx_signal)\n",
    "    \n",
    "    '''Calculate the block error ratio'''\n",
    "    blerc = pyp.error_counters.BLERC(block_size)\n",
    "    blerc.count(source_bits, demodulated_bits)\n",
    "    return blerc.get_errorrate()"
   ]
  },
  {
   "cell_type": "markdown",
   "metadata": {},
   "source": [
    "# BLER for Turbo over AWGN"
   ]
  },
  {
   "cell_type": "code",
   "execution_count": 3,
   "metadata": {},
   "outputs": [],
   "source": [
    "def block_error_ratio_turbo_awgn(snr_db, interleaver_length):\n",
    "  '''Create turbo_codec_instance'''\n",
    "  codec = pyp.turbo.turbo_codec()\n",
    "  \n",
    "  '''Set codec parameters'''\n",
    "  gen = pyp.vec.ivec(2)\n",
    "  gen[0] = 11\n",
    "  gen[1] = 13\n",
    "  constraint_length = 4\n",
    "  interleaver = pyp.vec.ivec('0, 19, 14, 33, 28, 47, 42, 13, 8, 27, 22, 41, 36, 7, 2, 21, 16, 35, 30, 1, 44, 15, 10, 29, 24, 43, 38, 9, 4, 23, 18, 37, 32, 3, 46, 17, 12, 31, 26, 45, 40, 11, 6, 25, 20, 39, 34, 5')\n",
    "  codec.set_parameters(gen, gen, constraint_length, pyp.vec.ivec())\n",
    "  codec.set_interleaver(interleaver)\n",
    "  \n",
    "  '''Generate random bits and encode them'''\n",
    "  nrof_uncoded_bits = interleaver_length * 1000\n",
    "  uncoded_bits = pyp.random.randb(nrof_uncoded_bits)\n",
    "  encoded_bits = pyp.vec.bvec()\n",
    "  codec.encode(uncoded_bits, encoded_bits)\n",
    "  \n",
    "  '''Modulate bits using BPSK'''\n",
    "  symbols = pyp.vec.vec('1, -1')\n",
    "  bits2symbol = pyp.vec.ivec('0, 1')\n",
    "  modulator_ = pyp.modulator.modulator_1d(symbols, bits2symbol)\n",
    "  tx_signal = modulator_.modulate_bits(encoded_bits)\n",
    "  \n",
    "  '''Add AWGN noise'''\n",
    "  noise_variance = 1.0 / (pow(10, 0.1 * snr_db))\n",
    "  noise = pyp.random.randn(tx_signal.length())\n",
    "  noise *= pyp.elem_math.sqrt(noise_variance)\n",
    "  rx_signal = tx_signal + noise\n",
    "  \n",
    "  '''Demodulate received signal (soft bits, LOGMAP)'''\n",
    "  soft_bits = pyp.vec.vec()\n",
    "  modulator_.demodulate_soft_bits(rx_signal, \n",
    "                                  noise_variance,\n",
    "                                  soft_bits,\n",
    "                                  pyp.modulator.soft_method.LOGMAP)\n",
    "\n",
    "  '''Turbo decode the soft bits'''\n",
    "  decoded_bits = pyp.vec.bvec()\n",
    "  codec.decode(soft_bits, decoded_bits, pyp.vec.bvec())\n",
    "    \n",
    "  '''Count errors'''\n",
    "  blerc = pyp.error_counters.BLERC(interleaver_length)\n",
    "  blerc.count(decoded_bits, uncoded_bits)\n",
    "  return blerc.get_errorrate()"
   ]
  },
  {
   "cell_type": "markdown",
   "metadata": {},
   "source": [
    "# Run simulation"
   ]
  },
  {
   "cell_type": "code",
   "execution_count": 4,
   "metadata": {},
   "outputs": [
    {
     "name": "stdout",
     "output_type": "stream",
     "text": [
      "BLER for uncoded bits over AWGN channel\n",
      "BLER for Turbo coded  bits over AWGN channel, interleaver length 48 and code rate 0.33\n"
     ]
    }
   ],
   "source": [
    "'''SNR range'''\n",
    "snrs_db = range(-10, 10) \n",
    "block_size = 4\n",
    "\n",
    "print('BLER for uncoded bits over AWGN channel')\n",
    "bler_unc = [block_error_ratio_uncoded_awgn(snr, block_size) for snr in snrs_db]\n",
    "\n",
    "print('BLER for Turbo coded  bits over AWGN channel, interleaver length 48 and code rate 0.33')\n",
    "interleaver_length = 48\n",
    "bler_turbo = [block_error_ratio_turbo_awgn(snr, interleaver_length) for snr in snrs_db]"
   ]
  },
  {
   "cell_type": "markdown",
   "metadata": {},
   "source": [
    "# Plot results"
   ]
  },
  {
   "cell_type": "code",
   "execution_count": 6,
   "metadata": {},
   "outputs": [
    {
     "name": "stdout",
     "output_type": "stream",
     "text": [
      "Plotting results\n"
     ]
    },
    {
     "data": {
      "image/png": "[encoded data removed]",
      "text/plain": [
       "<matplotlib.figure.Figure at 0x7f619ef37828>"
      ]
     },
     "metadata": {},
     "output_type": "display_data"
    }
   ],
   "source": [
    "print('Plotting results')\n",
    "plt.figure()\n",
    "plt.grid(True)\n",
    "plt.semilogy(snrs_db, bler_unc)\n",
    "plt.semilogy(snrs_db, bler_turbo)\n",
    "plt.xlabel('SNR [dB]')\n",
    "plt.ylabel('Block Error Ratio')\n",
    "plt.legend(['Uncoded (4,4)', 'Turbo (48,0.33)'], loc = 'lower left')\n",
    "plt.show()"
   ]
  }
 ],
 "metadata": {
  "kernelspec": {
   "display_name": "Python 3",
   "language": "python",
   "name": "python3"
  },
  "language_info": {
   "codemirror_mode": {
    "name": "ipython",
    "version": 3
   },
   "file_extension": ".py",
   "mimetype": "text/x-python",
   "name": "python",
   "nbconvert_exporter": "python",
   "pygments_lexer": "ipython3",
   "version": "3.6.4"
  }
 },
 "nbformat": 4,
 "nbformat_minor": 2
}
