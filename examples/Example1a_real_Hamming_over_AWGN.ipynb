{
 "cells": [
  {
   "cell_type": "markdown",
   "metadata": {},
   "source": [
    "# Real valued Hamming codes over AWGN channel"
   ]
  },
  {
   "cell_type": "code",
   "execution_count": null,
   "metadata": {},
   "outputs": [],
   "source": [
    "# Imports\n",
    "import py_itpp as pyp\n",
    "from matplotlib import pyplot as plt"
   ]
  },
  {
   "cell_type": "markdown",
   "metadata": {},
   "source": [
    "# BER for uncoded over AWGN"
   ]
  },
  {
   "cell_type": "code",
   "execution_count": null,
   "metadata": {},
   "outputs": [],
   "source": [
    "def bit_error_ratio_uncoded_awgn(snr_db):\n",
    "    '''Generate random bits'''\n",
    "    nrof_bits = 3 * 100000\n",
    "    source_bits = pyp.randb(nrof_bits)\n",
    "    \n",
    "    '''Modulate the bits'''\n",
    "    modulator = pyp.comm.BPSK()\n",
    "    tx_signal = modulator.modulate_bits(source_bits)\n",
    "    \n",
    "    '''Add the effect of channel to the signal'''\n",
    "    noise_variance = pyp.math.inv_dB(-snr_db)\n",
    "    channel = pyp.comm.AWGN_Channel(noisevar=noise_variance)\n",
    "\n",
    "    rx_signal = channel(tx_signal)\n",
    "    \n",
    "    '''Demodulate the signal'''\n",
    "    demodulated_bits = modulator.demodulate_bits(rx_signal)\n",
    "    \n",
    "    '''Calculate the bit error ratio'''\n",
    "    return pyp.comm.BERC.count_errors(source_bits, demodulated_bits, 0, 0, 0) / nrof_bits"
   ]
  },
  {
   "cell_type": "markdown",
   "metadata": {},
   "source": [
    "# BER for Hamming (7, 4) coded over AWGN"
   ]
  },
  {
   "cell_type": "code",
   "execution_count": null,
   "metadata": {},
   "outputs": [],
   "source": [
    "def bit_error_ratio_hamming_awgn(snr_db):\n",
    "    '''Hamming encoder and decoder instance'''\n",
    "    k = 3 # (7,4) Hamming code\n",
    "    hamm = pyp.comm.hamming_code(k)\n",
    "    \n",
    "    '''Generate random bits'''\n",
    "    nrof_bits = k * 100000\n",
    "    source_bits = pyp.randb(nrof_bits)\n",
    "    \n",
    "    '''Encode the bits'''\n",
    "    encoded_bits = hamm.encode(source_bits)\n",
    "    \n",
    "    '''Modulate the bits'''\n",
    "    modulator = pyp.comm.BPSK()\n",
    "    tx_signal = modulator.modulate_bits(encoded_bits)\n",
    "    \n",
    "    '''Add the effect of channel to the signal'''\n",
    "    noise_variance = pyp.math.inv_dB(-snr_db)\n",
    "    channel = pyp.comm.AWGN_Channel(noisevar=noise_variance)\n",
    "\n",
    "    rx_signal = channel(tx_signal)\n",
    "    \n",
    "    '''Demodulate the signal'''\n",
    "    demodulated_bits = modulator.demodulate_bits(rx_signal)\n",
    "    \n",
    "    '''Decode the received bits'''\n",
    "    decoded_bits = hamm.decode(demodulated_bits) \n",
    "    \n",
    "    '''Calculate the bit error ratio'''\n",
    "    return pyp.comm.BERC.count_errors(source_bits, decoded_bits, 0, 0, 0) / nrof_bits"
   ]
  },
  {
   "cell_type": "markdown",
   "metadata": {},
   "source": [
    "# Run simulation"
   ]
  },
  {
   "cell_type": "code",
   "execution_count": null,
   "metadata": {},
   "outputs": [],
   "source": [
    "'''SNR range'''\n",
    "snrs_db = range(-10, 10) \n",
    "\n",
    "print('BER for uncoded bits over AWGN channel')\n",
    "ber_unc = [bit_error_ratio_uncoded_awgn(snr) for snr in snrs_db]\n",
    "\n",
    "print('BER for Hamming (7, 4) coded  bits over AWGN channel')\n",
    "ber = [bit_error_ratio_hamming_awgn(snr) for snr in snrs_db]"
   ]
  },
  {
   "cell_type": "markdown",
   "metadata": {},
   "source": [
    "# Plot results"
   ]
  },
  {
   "cell_type": "code",
   "execution_count": null,
   "metadata": {},
   "outputs": [],
   "source": [
    "plt.figure()\n",
    "plt.grid(True)\n",
    "plt.semilogy(snrs_db, ber)\n",
    "plt.semilogy(snrs_db, ber_unc)\n",
    "plt.xlabel('SNR [dB]')\n",
    "plt.ylabel('Bit Error Ratio')\n",
    "plt.legend(['Hamming Code', 'Uncoded'])\n",
    "plt.show()"
   ]
  },
  {
   "cell_type": "code",
   "execution_count": null,
   "metadata": {},
   "outputs": [],
   "source": []
  }
 ],
 "metadata": {
  "kernelspec": {
   "display_name": "Python 3",
   "language": "python",
   "name": "python3"
  },
  "language_info": {
   "codemirror_mode": {
    "name": "ipython",
    "version": 3
   },
   "file_extension": ".py",
   "mimetype": "text/x-python",
   "name": "python",
   "nbconvert_exporter": "python",
   "pygments_lexer": "ipython3",
   "version": "3.6.4"
  }
 },
 "nbformat": 4,
 "nbformat_minor": 2
}
