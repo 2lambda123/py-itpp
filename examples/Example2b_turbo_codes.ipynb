{
 "cells": [
  {
   "cell_type": "markdown",
   "metadata": {},
   "source": [
    "# Simulation of a Turbo encoder and decoder\n",
    "\n",
    "In this example we will show how to use the Turbo encoder/decoder class in py-itpp. The Turbo codec used here is quite close to the LTE specification, however, implementation details related to tails have been left out for simplicity. "
   ]
  },
  {
   "cell_type": "code",
   "execution_count": null,
   "metadata": {},
   "outputs": [],
   "source": [
    "# Imports\n",
    "import itpp\n",
    "from matplotlib import pyplot as plt"
   ]
  },
  {
   "cell_type": "markdown",
   "metadata": {},
   "source": [
    "#  Set up the Turbo encoder/decoder class"
   ]
  },
  {
   "cell_type": "code",
   "execution_count": null,
   "metadata": {},
   "outputs": [],
   "source": [
    "turbo_codec = itpp.comm.turbo_codec()\n",
    "\n",
    "generator_sequence = itpp.ivec('11, 13')\n",
    "constraint_length = 4\n",
    "block_size = 512\n",
    "\n",
    "# Set coded parameters\n",
    "turbo_codec.set_parameters(generator_sequence, generator_sequence, constraint_length, itpp.ivec())\n",
    "\n",
    "# The interleaver is generate based on a Quadrature Permutation Polynomial (QPP)\n",
    "# Defined in \n",
    "f1 = 31\n",
    "f2 = 64\n",
    "interleaver_sequence = itpp.ivec(block_size)\n",
    "for i in range(block_size):\n",
    "    interleaver_sequence.set(i, (f1 * i + f2 * i * i) % block_size)\n",
    "\n",
    "turbo_codec.set_interleaver(interleaver_sequence)\n",
    "\n",
    "# Find out the channel code rate\n",
    "dummy_bits = itpp.randb(block_size)\n",
    "coded_bits = itpp.bvec()\n",
    "turbo_codec.encode(dummy_bits, coded_bits)\n",
    "\n",
    "coded_block_length = coded_bits.length()\n",
    "rate = block_size / coded_block_length\n",
    "\n",
    "print('Channel code rate: %0.4f'%(rate))"
   ]
  },
  {
   "cell_type": "markdown",
   "metadata": {},
   "source": [
    "# Initialize modulator, channel, and block error counter\n",
    "In this example we simulate quadrature amplitude modulation (QAM) with 4 constellation points in the complex domain. The channel is additive white gaussian noise (AWGN) normalized to unit power here, and updated in later section for each simulated EbN0."
   ]
  },
  {
   "cell_type": "code",
   "execution_count": null,
   "metadata": {},
   "outputs": [],
   "source": [
    "# Initialize QAM modulator\n",
    "qam = itpp.comm.QAM(M=4)\n",
    "\n",
    "# Initialize an AWGN channel\n",
    "channel = itpp.comm.AWGN_Channel(noisevar=0)\n",
    "\n",
    "# Initialize block error counter\n",
    "blerc = itpp.comm.BLERC(block_size)"
   ]
  },
  {
   "cell_type": "markdown",
   "metadata": {},
   "source": [
    "# Set up some simulation specific parameters"
   ]
  },
  {
   "cell_type": "code",
   "execution_count": null,
   "metadata": {},
   "outputs": [],
   "source": [
    "EbN0_dB = itpp.vec('0:1:5')\n",
    "EbN0 = itpp.math.inv_dB(EbN0_dB)\n",
    "\n",
    "energy_per_bit = 1.0 / rate\n",
    "noise_variance =  energy_per_bit / EbN0\n",
    "\n",
    "nrof_blocks = 100 # Number of blocks in each iteration\n",
    "max_iterations = 10 \n",
    "max_errors = 10\n",
    "\n",
    "bler = itpp.vec(EbN0_dB.length()) # Bit error rate\n",
    "bler.clear()\n",
    "\n",
    "# Randomize the random number generators\n",
    "itpp.random.RNG_reset(42)"
   ]
  },
  {
   "cell_type": "markdown",
   "metadata": {},
   "source": [
    "# Run the simulation"
   ]
  },
  {
   "cell_type": "code",
   "execution_count": null,
   "metadata": {},
   "outputs": [],
   "source": [
    "coded_bits = itpp.bvec()\n",
    "transmitted_symbols = itpp.cvec()\n",
    "for p in range(EbN0_dB.length()):\n",
    "    print('Now simulating point %d out of %d with EbN0_dB = %.2f'%(p + 1, EbN0_dB.length(), EbN0_dB[p]))\n",
    "    blerc.clear()  # Clear the bit error rate counter.\n",
    "    channel.set_noise(noise_variance[p]);  # Set the noise value of the AWGN channel.\n",
    "    for i in range(max_iterations):\n",
    "      uncoded_bits = itpp.randb(nrof_blocks * block_size) \n",
    "      turbo_codec.encode(uncoded_bits, coded_bits)\n",
    "        \n",
    "      qam.modulate_bits(coded_bits, transmitted_symbols)\n",
    "      received_symbols = channel(transmitted_symbols)\n",
    "    \n",
    "      soft_values = qam.demodulate_soft_bits(received_symbols, noise_variance[p], itpp.comm.soft_method.LOGMAP)\n",
    "        \n",
    "      decoded_bits = itpp.bvec()\n",
    "      turbo_codec.decode(soft_values, decoded_bits, itpp.bvec())\n",
    "      blerc.count(uncoded_bits, decoded_bits)\n",
    "          \n",
    "      bler[p] = blerc.get_errorrate()\n",
    "      \n",
    "      # Break the simulation on this point if sufficient number of bit errors were observed\n",
    "      if (blerc.get_errors() > max_errors):\n",
    "        print('Breaking on point %d with %d block errors'%(p + 1, blerc.get_errors()))\n",
    "        break"
   ]
  },
  {
   "cell_type": "markdown",
   "metadata": {},
   "source": [
    "# Plot results"
   ]
  },
  {
   "cell_type": "code",
   "execution_count": null,
   "metadata": {},
   "outputs": [],
   "source": [
    "# print(bler)\n",
    "# print(EbN0_dB)\n",
    "\n",
    "#Plot the results:\n",
    "plt.figure()\n",
    "plt.semilogy(EbN0_dB.to_numpy_ndarray(), bler.to_numpy_ndarray())\n",
    "plt.xlabel('EbN0_dB')\n",
    "plt.ylabel('BLER')\n",
    "plt.show()"
   ]
  },
  {
   "cell_type": "code",
   "execution_count": null,
   "metadata": {},
   "outputs": [],
   "source": []
  }
 ],
 "metadata": {
  "kernelspec": {
   "display_name": "Python 3",
   "language": "python",
   "name": "python3"
  },
  "language_info": {
   "codemirror_mode": {
    "name": "ipython",
    "version": 3
   },
   "file_extension": ".py",
   "mimetype": "text/x-python",
   "name": "python",
   "nbconvert_exporter": "python",
   "pygments_lexer": "ipython3",
   "version": "3.5.2"
  }
 },
 "nbformat": 4,
 "nbformat_minor": 2
}
