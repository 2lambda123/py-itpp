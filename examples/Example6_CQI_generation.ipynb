{
 "cells": [
  {
   "cell_type": "markdown",
   "metadata": {},
   "source": [
    "# Channel Quality Index (CQI) Generation\n",
    "\n",
    "In this example, we will simulate a fading channel, and channel quality index (CQI) generation based on the effective exponential SIR metric (EESM) approach."
   ]
  },
  {
   "cell_type": "code",
   "execution_count": null,
   "metadata": {},
   "outputs": [],
   "source": [
    "import py_itpp as pyp\n",
    "from matplotlib import pyplot as plt"
   ]
  },
  {
   "cell_type": "markdown",
   "metadata": {},
   "source": [
    "## Create the CQI table \n",
    "\n",
    "LTE TS36.213 Table 7.2.3-1"
   ]
  },
  {
   "cell_type": "code",
   "execution_count": null,
   "metadata": {},
   "outputs": [],
   "source": [
    "cqi_table = {}\n",
    "cqi_table['cqi_index'] = [0, 1, 2, 3, 4, 5, 6, 7, 8, 9, 10, 11, 12, 13, 14, 15]\n",
    "cqi_table['modulation_index'] = [0, 2, 2, 2, 2, 2, 2, 4, 4, 4, 6, 6, 6, 6, 6, 6]\n",
    "cqi_table['code_rates'] = [0, 78, 120, 193, 308, 449, 602, 378, 490, 616, 466, 567, 666, 772, 873, 948]\n",
    "\n",
    "nrof_cqi = len(cqi_table['code_rates'])\n",
    "\n",
    "# Print the CQI table\n",
    "print('CQI Index\\t Modulation Index\\t Code Rate x 1024')\n",
    "for i in range(16):\n",
    "    print('\\t%d\\t \\t%d\\t \\t%d'%(cqi_table['cqi_index'][i], \n",
    "                                     cqi_table['modulation_index'][i], \n",
    "                                     cqi_table['code_rates'][i]))"
   ]
  },
  {
   "cell_type": "markdown",
   "metadata": {},
   "source": [
    "## Define AWGN BLER curves"
   ]
  },
  {
   "cell_type": "code",
   "execution_count": null,
   "metadata": {},
   "outputs": [],
   "source": [
    "AWGN_EbN0_dB = pyp.vec.vec('0:0.1:16')\n",
    "awgn_bler_curve = pyp.mat.mat(AWGN_EbN0_dB.length(), nrof_cqi)\n",
    "\n",
    "awgn_bler_curve.clear()\n",
    "temp_curve = pyp.vec.vec(AWGN_EbN0_dB.length())\n",
    "for i in range(nrof_cqi):\n",
    "    temp_curve.clear()    \n",
    "    temp_curve.set_subvector(0, pyp.specmat.ones(i * 10))  # Set BLER 1 for low SNRs\n",
    "    temp_curve.set_subvector(i * 10 , pyp.vec.vec('1:-0.1:0'))  # Linear BLER decrease to 0\n",
    "    awgn_bler_curve.set_col(i, temp_curve)\n",
    "\n",
    "# Plot AWGN BLER curves\n",
    "plt.figure()\n",
    "for i in range(nrof_cqi):\n",
    "    plt.semilogy(AWGN_EbN0_dB.to_numpy_ndarray(), awgn_bler_curve.get_col(i).to_numpy_ndarray())\n",
    "\n",
    "plt.ylim([1e-2, 1])\n",
    "plt.xlabel('EbN0_dB')\n",
    "plt.ylabel('BLER')"
   ]
  },
  {
   "cell_type": "markdown",
   "metadata": {},
   "source": [
    "## Function to estimate CQI index\n",
    "Now we can define a function that returns the largest CQI index for which the AWGN BLER is less than or \n",
    "equal to given BLER target for the given sinr value (in dB)."
   ]
  },
  {
   "cell_type": "code",
   "execution_count": null,
   "metadata": {},
   "outputs": [],
   "source": [
    "AWGN_EbN0_min = pyp.min_max.min(AWGN_EbN0_dB)\n",
    "AWGN_EbN0_interval = (pyp.min_max.max(AWGN_EbN0_dB) - AWGN_EbN0_min) / AWGN_EbN0_dB.length()\n",
    "def determine_cqi_index(effective_sinrs, bler_target=0.1):\n",
    "    for i in range(nrof_cqi):\n",
    "        sinr_in = effective_sinrs[nrof_cqi - i - 1]\n",
    "        # Find index of the closest SINR less than sinr_in [dB]\n",
    "        awgn_sinr_index = int((sinr_in - AWGN_EbN0_min) / AWGN_EbN0_interval)\n",
    "        equivalent_awgn_bler = awgn_bler_curve.get(awgn_sinr_index, nrof_cqi - i - 1)\n",
    "        if (sinr_in > AWGN_EbN0_min) and (equivalent_awgn_bler <= bler_target):\n",
    "            return (nrof_cqi - i - 1)\n",
    "        elif (i == nrof_cqi - 1):\n",
    "            return 0"
   ]
  },
  {
   "cell_type": "markdown",
   "metadata": {},
   "source": [
    "# Radio link parameters\n",
    "We now define the radio link parameters related to the transmission bandwidth, transmission duration, and the speed of terminal. We simulate an LTE-link link chain, where the LTE carrier spans 6 resource blocks (i.e., 72 subcarriers). Further, the transmission duration is 1 millisecond (i.e., a single LTE subframe)."
   ]
  },
  {
   "cell_type": "code",
   "execution_count": null,
   "metadata": {},
   "outputs": [],
   "source": [
    "# Sampling frequency and interval\n",
    "fft_size = 128\n",
    "subcarrier_spacing = 15000 # Hz\n",
    "sampling_frequency = subcarrier_spacing * fft_size \n",
    "sampling_interval = 1.0 / sampling_frequency\n",
    "\n",
    "# Transmission bandwidth and duration\n",
    "nrof_subcarriers = 72\n",
    "transmission_duration = 1e-3 # in seconds\n",
    "\n",
    "# Maximum Doppler frequency assuming a 2Ghz carrier\n",
    "relative_speed = 33.3 # in m/s\n",
    "doppler_frequency = (2e9 / 3e8) * relative_speed\n",
    "\n",
    "# Average signal to noise ratio over transmission bandwidth\n",
    "snr_dB = 10\n",
    "noise_variance = pyp.log_exp.inv_dB(-snr_dB)  # Normalizing the received power to 1 (=0 dB)"
   ]
  },
  {
   "cell_type": "markdown",
   "metadata": {},
   "source": [
    "## Set up the channel\n",
    "\n",
    "We set up a fading channel. py-itpp supports stochastic tapped delay line (TDL) channel models. In case of TDL channels, the channel impulse response is modeled as several time-delayed 'taps', where each tap is a random variable with a defined . The channel response is therefore,\n",
    "$$h = \\sum_{p=1}^{P}\\delta(t-\\tau_p)h(\\tau_p)$$,\n",
    "where $P$ is the number of taps and $h$ is the amplitude,modeled as a Rayleigh fading distribution.\n",
    "Currently, there is no support for spatial / geometric channel models. The following TDL channel profiles are supported by py-itpp:\n",
    "\n",
    "ITU_Vehicular_A,\n",
    "ITU_Vehicular_B, \n",
    "ITU_Pedestrian_A,\n",
    "ITU_Pedestrian_B,\n",
    "COST207_RA,\n",
    "COST207_RA6,\n",
    "COST207_TU,\n",
    "COST207_TU6alt,\n",
    "COST207_TU12,\n",
    "COST207_TU12alt,\n",
    "COST207_HT,\n",
    "COST207_HT6alt,\n",
    "COST207_HT12,\n",
    "COST207_HT12alt,\n",
    "COST259_TUx,\n",
    "COST259_RAx,\n",
    "COST259_RAx."
   ]
  },
  {
   "cell_type": "code",
   "execution_count": null,
   "metadata": {},
   "outputs": [],
   "source": [
    "# Specify the channel model\n",
    "channel_spec = pyp.channel.Channel_Specification(pyp.channel.CHANNEL_PROFILE.ITU_Vehicular_A)\n",
    "\n",
    "# Create the channel model\n",
    "channel = pyp.channel.TDL_Channel(channel_spec, sampling_interval)\n",
    "\n",
    "# Set the normalized channel doppler for a 2 GHz carrier frequency\n",
    "norm_doppler = doppler_frequency * sampling_interval\n",
    "print('Normalized Doppler: %f'%(norm_doppler))\n",
    "channel.set_norm_doppler(norm_doppler)"
   ]
  },
  {
   "cell_type": "markdown",
   "metadata": {},
   "source": [
    "## Generate channel samples in frequency domain\n",
    "Here we generate some samples of the channel impulse response (CIR). Then we convert the CIR samples to frequency domain by taking the fourier transform of the CIRs for a given number of subcarriers."
   ]
  },
  {
   "cell_type": "code",
   "execution_count": null,
   "metadata": {},
   "outputs": [],
   "source": [
    "# Define number of channel samples to generate and the offset between each sample.\n",
    "nrof_channel_samples = 100\n",
    "\n",
    "# Placeholder to store channel impulse responses\n",
    "nrof_taps = channel.taps()\n",
    "channel_impulse_response = pyp.mat.cmat(nrof_taps, nrof_channel_samples) \n",
    "channel_frequency_response = pyp.mat.cmat(nrof_subcarriers, nrof_channel_samples)\n",
    "#channel_impulse_responses.set_size(nrof_channel_samples, nrof_taps, False)\n",
    "\n",
    "# Generate channel samples. Each channel sample is shifted by the transmission duration\n",
    "sample_channel_coeff = pyp.mat.cmat()\n",
    "for sample_index in range(nrof_channel_samples):\n",
    "    channel.shift_time_offset(sample_index * int(transmission_duration / sampling_interval))\n",
    "    \n",
    "    channel.generate(1, sample_channel_coeff) # Generate a single channel sample with current time offset\n",
    "\n",
    "    channel_impulse_response.set_col(sample_index, sample_channel_coeff.get_row(0))\n",
    "    \n",
    "    # Obtain the channel frequency response by taking FFT of channel impulse response.\n",
    "    # The FFT size is 2^n for computation speed, from which we extract nrof_subcarrier values.\n",
    "    channel_impuse_fft = pyp.transforms.fft(channel_impulse_response.get_col(sample_index), fft_size)\n",
    "    channel_frequency_response.set_col(sample_index, channel_impuse_fft.left(nrof_subcarriers))"
   ]
  },
  {
   "cell_type": "markdown",
   "metadata": {},
   "source": [
    "# Visualize the channel response\n",
    "\n",
    "Before we calculate the CQI, we can take a short aside and visualize the channel response, in terms of the average SINR in the frequency domain for each channel sample. This will help us appreciate the variation in CQI over time. Note that averaging the SINR is a rough measure of the channel quality, so although the average SINR curve should look similar to the CQI curve over time, the two curves will most likely not be identical. In fact, the similarity between average SINR and CQI curves depends on the frequency selectivity of the channel - a frequency flat channel will have similar curves for both, while the curves for a frequency selective channel can look dissimilar."
   ]
  },
  {
   "cell_type": "code",
   "execution_count": null,
   "metadata": {},
   "outputs": [],
   "source": [
    "average_snr = pyp.vec.vec(nrof_channel_samples)\n",
    "for i in range(nrof_channel_samples):\n",
    "    channel_response = pyp.elem_math.abs(channel_frequency_response.get_col(i))\n",
    "    snr_per_subcarrier = pyp.log_exp.pow(channel_response, 2) * (1.0 / noise_variance)\n",
    "        \n",
    "    average_snr[i] = pyp.log_exp.dB(pyp.misc_stat.mean(snr_per_subcarrier))\n",
    "\n",
    "plt.figure()\n",
    "plt.plot(average_snr.to_numpy_ndarray())\n",
    "plt.xlabel('Channel Sample')\n",
    "plt.ylabel('Average SNR [dB]')"
   ]
  },
  {
   "cell_type": "markdown",
   "metadata": {},
   "source": [
    "## Calculate the EESM value for each channel sample\n",
    "\n",
    "The effective exponential SIR metric (EESM) is defined as \n",
    "$$eesm_k = -\\beta_k\\log\\left(\\frac{1}{M}\\sum_{m=1}^{M}e^{-\\frac{\\gamma_m}{\\beta_k}}\\right)$$\n",
    ", where $M$ is the number of subcarriers, and $\\beta_k$ is estimated through simulations."
   ]
  },
  {
   "cell_type": "code",
   "execution_count": null,
   "metadata": {},
   "outputs": [],
   "source": [
    "eesm_dB = pyp.mat.mat()\n",
    "eesm_dB.set_size(nrof_channel_samples, nrof_cqi, False)\n",
    "\n",
    "eesm_beta = [0.1, 0.1, 0.1, 0.1, 0.1, 0.1, 0.1, 0.1, 0.1, 0.1, 0.1, 0.1, 0.1, 0.1, 0.1, 0.1]\n",
    "\n",
    "for i in range(nrof_channel_samples):\n",
    "    channel_response = pyp.elem_math.abs(channel_frequency_response.get_col(i))\n",
    "    snr_per_subcarrier = pyp.log_exp.pow(channel_response, 2) * (1.0 / noise_variance)\n",
    "   \n",
    "    for j in range(nrof_cqi):\n",
    "        v = pyp.log_exp.exp((-1.0 / eesm_beta[j]) * snr_per_subcarrier)\n",
    "        eesm_value = -1.0 * eesm_beta[j] * pyp.log_exp.log(pyp.misc_stat.mean(v))  \n",
    "        eesm_dB.set(i, j, pyp.log_exp.dB(eesm_value))\n",
    "    \n",
    "plt.figure()\n",
    "plt.plot(eesm_dB.get_col(0).to_numpy_ndarray())"
   ]
  },
  {
   "cell_type": "markdown",
   "metadata": {},
   "source": [
    "## Estimate the CQI for each channel sample"
   ]
  },
  {
   "cell_type": "code",
   "execution_count": null,
   "metadata": {},
   "outputs": [],
   "source": [
    "cqi = pyp.vec.ivec(nrof_channel_samples)\n",
    "for i in range(nrof_channel_samples):\n",
    "    cqi.set(i, determine_cqi_index(eesm_dB.get_row(i)))\n",
    "    \n",
    "plt.figure()\n",
    "plt.plot(cqi.to_numpy_ndarray())"
   ]
  },
  {
   "cell_type": "code",
   "execution_count": null,
   "metadata": {},
   "outputs": [],
   "source": []
  }
 ],
 "metadata": {
  "kernelspec": {
   "display_name": "Python 3",
   "language": "python",
   "name": "python3"
  },
  "language_info": {
   "codemirror_mode": {
    "name": "ipython",
    "version": 3
   },
   "file_extension": ".py",
   "mimetype": "text/x-python",
   "name": "python",
   "nbconvert_exporter": "python",
   "pygments_lexer": "ipython3",
   "version": "3.6.4"
  }
 },
 "nbformat": 4,
 "nbformat_minor": 2
}
