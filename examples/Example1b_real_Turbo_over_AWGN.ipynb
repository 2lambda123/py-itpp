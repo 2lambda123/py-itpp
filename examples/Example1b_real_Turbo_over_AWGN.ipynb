{
 "cells": [
  {
   "cell_type": "markdown",
   "metadata": {},
   "source": [
    "# Real valued Turbo codes over AWGN channel"
   ]
  },
  {
   "cell_type": "code",
   "execution_count": 1,
   "metadata": {},
   "outputs": [],
   "source": [
    "# Imports \n",
    "import itpp\n",
    "from matplotlib import pyplot as plt"
   ]
  },
  {
   "cell_type": "markdown",
   "metadata": {},
   "source": [
    "# BLER for uncoded over AWGN"
   ]
  },
  {
   "cell_type": "code",
   "execution_count": 2,
   "metadata": {},
   "outputs": [],
   "source": [
    "def block_error_ratio_uncoded_awgn(snr_db, block_size):\n",
    "    '''Generate random bits'''\n",
    "    nrof_bits = 3 * 10000 * block_size\n",
    "    source_bits = itpp.randb(nrof_bits)\n",
    "    \n",
    "    '''Modulate the bits'''\n",
    "    modulator = itpp.comm.BPSK()\n",
    "    tx_signal = modulator.modulate_bits(source_bits)\n",
    "    \n",
    "    '''Add the effect of channel to the signal'''\n",
    "    #noise_variance = itpp.math.inv_dB(-snr_db)\n",
    "    noise_variance = 10 ** (-snr_db * 0.1)\n",
    "    channel = itpp.comm.AWGN_Channel(noisevar=noise_variance)\n",
    "    rx_signal = channel(tx_signal)\n",
    "    \n",
    "    '''Demodulate the signal'''\n",
    "    demodulated_bits = modulator.demodulate_bits(rx_signal)\n",
    "    \n",
    "    '''Calculate the block error ratio'''\n",
    "    blerc = itpp.comm.BLERC(block_size)\n",
    "    blerc.count(source_bits, demodulated_bits)\n",
    "    return blerc.get_errorrate()"
   ]
  },
  {
   "cell_type": "markdown",
   "metadata": {},
   "source": [
    "# BLER for Turbo over AWGN"
   ]
  },
  {
   "cell_type": "code",
   "execution_count": 3,
   "metadata": {},
   "outputs": [],
   "source": [
    "def block_error_ratio_turbo_awgn(snr_db, block_size):\n",
    "  '''Create turbo_codec_instance'''\n",
    "  codec = itpp.comm.turbo_codec()\n",
    "  \n",
    "  '''Set codec parameters'''\n",
    "  gen = itpp.ivec(2)\n",
    "  gen[0] = 11\n",
    "  gen[1] = 13\n",
    "  constraint_length = 4\n",
    "  interleaver = itpp.comm.sequence_interleaver_int(block_size)\n",
    "  interleaver.randomize_interleaver_sequence()\n",
    "  codec.set_parameters(gen, \n",
    "                       gen, \n",
    "                       constraint_length, \n",
    "                       interleaver.get_interleaver_sequence(), \n",
    "                       8,\n",
    "                       \"LOGMAX\",\n",
    "                       1.0,\n",
    "                       False,\n",
    "                       itpp.comm.LLR_calc_unit())\n",
    "  \n",
    "  '''Generate random bits and encode them'''\n",
    "  nrof_uncoded_bits = interleaver_length * 1000\n",
    "  uncoded_bits = itpp.randb(nrof_uncoded_bits)\n",
    "  encoded_bits = itpp.bvec()\n",
    "  codec.encode(uncoded_bits, encoded_bits)\n",
    "  \n",
    "  '''Modulate bits using BPSK'''\n",
    "  modulator = itpp.comm.BPSK()\n",
    "  tx_signal = modulator.modulate_bits(encoded_bits)\n",
    "  \n",
    "  '''Add AWGN noise'''\n",
    "  #noise_variance = itpp.math.inv_dB(-snr_db)\n",
    "  noise_variance = 10 ** (-snr_db * 0.1)\n",
    "  channel = itpp.comm.AWGN_Channel(noisevar=noise_variance)\n",
    "  rx_signal = channel(tx_signal)\n",
    "  \n",
    "  '''Demodulate received signal (soft bits, LOGMAP)'''\n",
    "  soft_bits = itpp.vec()\n",
    "  modulator.demodulate_soft_bits(rx_signal, \n",
    "                                 noise_variance,\n",
    "                                 soft_bits,\n",
    "                                 itpp.comm.soft_method.LOGMAP)\n",
    "\n",
    "  '''Turbo decode the soft bits'''\n",
    "  decoded_bits = itpp.bvec()\n",
    "  codec.decode(soft_bits, decoded_bits, itpp.bvec())\n",
    "    \n",
    "  '''Count errors'''\n",
    "  blerc = itpp.comm.BLERC(interleaver_length)\n",
    "  blerc.count(decoded_bits, uncoded_bits)\n",
    "  return blerc.get_errorrate()"
   ]
  },
  {
   "cell_type": "markdown",
   "metadata": {},
   "source": [
    "# Run simulation"
   ]
  },
  {
   "cell_type": "code",
   "execution_count": 4,
   "metadata": {},
   "outputs": [
    {
     "name": "stdout",
     "output_type": "stream",
     "text": [
      "BLER for uncoded bits over AWGN channel\n",
      "BLER for Turbo coded  bits over AWGN channel, block length 48 and code rate 0.33\n"
     ]
    },
    {
     "ename": "TypeError",
     "evalue": "set_parameters(): incompatible function arguments. The following argument types are supported:\n    1. (self: itpp.comm.turbo.turbo_codec, gen1: itpp::Vec<int>, gen2: itpp::Vec<int>, constraint_length: int, interleaver_sequence: itpp::Vec<int>, in_iterations: int = 8, in_metric: str = 'LOGMAX', in_logmax_scale_factor: float = 1.0, in_adaptive_stop: bool = False, lcalc: itpp.comm.llr.LLR_calc_unit = <itpp.comm.llr.LLR_calc_unit object at 0x7fedb400ee30>) -> None\n\nInvoked with: <itpp.comm.turbo.turbo_codec object at 0x7fedb5846b90>, [11 13], [11 13], 4, [37 29 41 4 17 21 36 1 39 22 35 0 13 19 20 16 34 32 6 30 45 5 8 7 23 26 46 33 9 27 18 12 15 24 40 3 44 31 38 11 2 10 28 42 14 25 43 47], 8, 'LOGMAX', 1.0, False, <itpp.comm.llr.LLR_calc_unit object at 0x7fedb9fc5068>",
     "output_type": "error",
     "traceback": [
      "\u001b[0;31m---------------------------------------------------------------------------\u001b[0m",
      "\u001b[0;31mTypeError\u001b[0m                                 Traceback (most recent call last)",
      "\u001b[0;32m<ipython-input-4-4155b1a330b9>\u001b[0m in \u001b[0;36m<module>\u001b[0;34m\u001b[0m\n\u001b[1;32m      8\u001b[0m \u001b[0mprint\u001b[0m\u001b[0;34m(\u001b[0m\u001b[0;34m'BLER for Turbo coded  bits over AWGN channel, block length 48 and code rate 0.33'\u001b[0m\u001b[0;34m)\u001b[0m\u001b[0;34m\u001b[0m\u001b[0;34m\u001b[0m\u001b[0m\n\u001b[1;32m      9\u001b[0m \u001b[0mblock_length\u001b[0m \u001b[0;34m=\u001b[0m \u001b[0;36m48\u001b[0m\u001b[0;34m\u001b[0m\u001b[0;34m\u001b[0m\u001b[0m\n\u001b[0;32m---> 10\u001b[0;31m \u001b[0mbler_turbo\u001b[0m \u001b[0;34m=\u001b[0m \u001b[0;34m[\u001b[0m\u001b[0mblock_error_ratio_turbo_awgn\u001b[0m\u001b[0;34m(\u001b[0m\u001b[0msnr\u001b[0m\u001b[0;34m,\u001b[0m \u001b[0mblock_length\u001b[0m\u001b[0;34m)\u001b[0m \u001b[0;32mfor\u001b[0m \u001b[0msnr\u001b[0m \u001b[0;32min\u001b[0m \u001b[0msnrs_db\u001b[0m\u001b[0;34m]\u001b[0m\u001b[0;34m\u001b[0m\u001b[0;34m\u001b[0m\u001b[0m\n\u001b[0m",
      "\u001b[0;32m<ipython-input-4-4155b1a330b9>\u001b[0m in \u001b[0;36m<listcomp>\u001b[0;34m(.0)\u001b[0m\n\u001b[1;32m      8\u001b[0m \u001b[0mprint\u001b[0m\u001b[0;34m(\u001b[0m\u001b[0;34m'BLER for Turbo coded  bits over AWGN channel, block length 48 and code rate 0.33'\u001b[0m\u001b[0;34m)\u001b[0m\u001b[0;34m\u001b[0m\u001b[0;34m\u001b[0m\u001b[0m\n\u001b[1;32m      9\u001b[0m \u001b[0mblock_length\u001b[0m \u001b[0;34m=\u001b[0m \u001b[0;36m48\u001b[0m\u001b[0;34m\u001b[0m\u001b[0;34m\u001b[0m\u001b[0m\n\u001b[0;32m---> 10\u001b[0;31m \u001b[0mbler_turbo\u001b[0m \u001b[0;34m=\u001b[0m \u001b[0;34m[\u001b[0m\u001b[0mblock_error_ratio_turbo_awgn\u001b[0m\u001b[0;34m(\u001b[0m\u001b[0msnr\u001b[0m\u001b[0;34m,\u001b[0m \u001b[0mblock_length\u001b[0m\u001b[0;34m)\u001b[0m \u001b[0;32mfor\u001b[0m \u001b[0msnr\u001b[0m \u001b[0;32min\u001b[0m \u001b[0msnrs_db\u001b[0m\u001b[0;34m]\u001b[0m\u001b[0;34m\u001b[0m\u001b[0;34m\u001b[0m\u001b[0m\n\u001b[0m",
      "\u001b[0;32m<ipython-input-3-6deb7703a05b>\u001b[0m in \u001b[0;36mblock_error_ratio_turbo_awgn\u001b[0;34m(snr_db, block_size)\u001b[0m\n\u001b[1;32m     18\u001b[0m                        \u001b[0;36m1.0\u001b[0m\u001b[0;34m,\u001b[0m\u001b[0;34m\u001b[0m\u001b[0;34m\u001b[0m\u001b[0m\n\u001b[1;32m     19\u001b[0m                        \u001b[0;32mFalse\u001b[0m\u001b[0;34m,\u001b[0m\u001b[0;34m\u001b[0m\u001b[0;34m\u001b[0m\u001b[0m\n\u001b[0;32m---> 20\u001b[0;31m                        itpp.comm.LLR_calc_unit())\n\u001b[0m\u001b[1;32m     21\u001b[0m \u001b[0;34m\u001b[0m\u001b[0m\n\u001b[1;32m     22\u001b[0m   \u001b[0;34m'''Generate random bits and encode them'''\u001b[0m\u001b[0;34m\u001b[0m\u001b[0;34m\u001b[0m\u001b[0m\n",
      "\u001b[0;31mTypeError\u001b[0m: set_parameters(): incompatible function arguments. The following argument types are supported:\n    1. (self: itpp.comm.turbo.turbo_codec, gen1: itpp::Vec<int>, gen2: itpp::Vec<int>, constraint_length: int, interleaver_sequence: itpp::Vec<int>, in_iterations: int = 8, in_metric: str = 'LOGMAX', in_logmax_scale_factor: float = 1.0, in_adaptive_stop: bool = False, lcalc: itpp.comm.llr.LLR_calc_unit = <itpp.comm.llr.LLR_calc_unit object at 0x7fedb400ee30>) -> None\n\nInvoked with: <itpp.comm.turbo.turbo_codec object at 0x7fedb5846b90>, [11 13], [11 13], 4, [37 29 41 4 17 21 36 1 39 22 35 0 13 19 20 16 34 32 6 30 45 5 8 7 23 26 46 33 9 27 18 12 15 24 40 3 44 31 38 11 2 10 28 42 14 25 43 47], 8, 'LOGMAX', 1.0, False, <itpp.comm.llr.LLR_calc_unit object at 0x7fedb9fc5068>"
     ]
    }
   ],
   "source": [
    "'''SNR range'''\n",
    "snrs_db = range(-10, 10) \n",
    "block_size = 4\n",
    "\n",
    "print('BLER for uncoded bits over AWGN channel')\n",
    "bler_unc = [block_error_ratio_uncoded_awgn(snr, block_size) for snr in snrs_db]\n",
    "\n",
    "print('BLER for Turbo coded  bits over AWGN channel, block length 48 and code rate 0.33')\n",
    "block_length = 48\n",
    "bler_turbo = [block_error_ratio_turbo_awgn(snr, block_length) for snr in snrs_db]"
   ]
  },
  {
   "cell_type": "code",
   "execution_count": 11,
   "metadata": {},
   "outputs": [
    {
     "ename": "TypeError",
     "evalue": "set_parameters(): incompatible function arguments. The following argument types are supported:\n    1. (self: itpp.comm.turbo.turbo_codec, gen1: itpp::Vec<int>, gen2: itpp::Vec<int>, constraint_length: int, interleaver_sequence: itpp::Vec<int>, in_iterations: int = 8, in_metric: str = 'LOGMAX', in_logmax_scale_factor: float = 1.0, in_adaptive_stop: bool = False, lcalc: itpp.comm.llr.LLR_calc_unit = <itpp.comm.llr.LLR_calc_unit object at 0x7fedb400ee30>) -> None\n\nInvoked with: <itpp.comm.turbo.turbo_codec object at 0x7fed868db7d8>; kwargs: gen1=[11 13], gen2=[11 13], constraint_length=3, interleaver_sequence=[3 0 1 2]",
     "output_type": "error",
     "traceback": [
      "\u001b[0;31m---------------------------------------------------------------------------\u001b[0m",
      "\u001b[0;31mTypeError\u001b[0m                                 Traceback (most recent call last)",
      "\u001b[0;32m<ipython-input-11-d169bb536160>\u001b[0m in \u001b[0;36m<module>\u001b[0;34m\u001b[0m\n\u001b[1;32m     13\u001b[0m                      \u001b[0mgen2\u001b[0m \u001b[0;34m=\u001b[0m \u001b[0mgen\u001b[0m\u001b[0;34m,\u001b[0m\u001b[0;34m\u001b[0m\u001b[0;34m\u001b[0m\u001b[0m\n\u001b[1;32m     14\u001b[0m                      \u001b[0mconstraint_length\u001b[0m \u001b[0;34m=\u001b[0m \u001b[0;36m3\u001b[0m\u001b[0;34m,\u001b[0m\u001b[0;34m\u001b[0m\u001b[0;34m\u001b[0m\u001b[0m\n\u001b[0;32m---> 15\u001b[0;31m                      interleaver_sequence = interleaver.get_interleaver_sequence() )\n\u001b[0m\u001b[1;32m     16\u001b[0m \u001b[0;31m#                   in_iterations = 8,\u001b[0m\u001b[0;34m\u001b[0m\u001b[0;34m\u001b[0m\u001b[0;34m\u001b[0m\u001b[0m\n\u001b[1;32m     17\u001b[0m \u001b[0;31m#                   in_metric = 'LOGMAX',\u001b[0m\u001b[0;34m\u001b[0m\u001b[0;34m\u001b[0m\u001b[0;34m\u001b[0m\u001b[0m\n",
      "\u001b[0;31mTypeError\u001b[0m: set_parameters(): incompatible function arguments. The following argument types are supported:\n    1. (self: itpp.comm.turbo.turbo_codec, gen1: itpp::Vec<int>, gen2: itpp::Vec<int>, constraint_length: int, interleaver_sequence: itpp::Vec<int>, in_iterations: int = 8, in_metric: str = 'LOGMAX', in_logmax_scale_factor: float = 1.0, in_adaptive_stop: bool = False, lcalc: itpp.comm.llr.LLR_calc_unit = <itpp.comm.llr.LLR_calc_unit object at 0x7fedb400ee30>) -> None\n\nInvoked with: <itpp.comm.turbo.turbo_codec object at 0x7fed868db7d8>; kwargs: gen1=[11 13], gen2=[11 13], constraint_length=3, interleaver_sequence=[3 0 1 2]"
     ]
    }
   ],
   "source": [
    "'''Create turbo_codec_instance'''\n",
    "codec = itpp.comm.turbo_codec()\n",
    "\n",
    "'''Set codec parameters'''\n",
    "gen = itpp.ivec(2)\n",
    "gen[0] = 11\n",
    "gen[1] = 13\n",
    "constraint_length = 4\n",
    "interleaver = itpp.comm.sequence_interleaver_int(block_size)\n",
    "interleaver.randomize_interleaver_sequence()\n",
    "\n",
    "codec.set_parameters(gen1 = gen, \n",
    "                     gen2 = gen, \n",
    "                     constraint_length = 3, \n",
    "                     interleaver_sequence = interleaver.get_interleaver_sequence() )\n",
    "#                   in_iterations = 8, \n",
    "#                   in_metric = 'LOGMAX', \n",
    "#                   in_logmax_scale_factor = 1.0, \n",
    "#                   in_adaptive_stop = False,\n",
    "#                   lcalc = LLR_calc_unit())"
   ]
  },
  {
   "cell_type": "code",
   "execution_count": 7,
   "metadata": {},
   "outputs": [
    {
     "data": {
      "text/plain": [
       "[11 13]"
      ]
     },
     "execution_count": 7,
     "metadata": {},
     "output_type": "execute_result"
    }
   ],
   "source": [
    "gen"
   ]
  },
  {
   "cell_type": "markdown",
   "metadata": {},
   "source": [
    "# Plot results"
   ]
  },
  {
   "cell_type": "code",
   "execution_count": null,
   "metadata": {},
   "outputs": [],
   "source": [
    "print('Plotting results')\n",
    "plt.figure()\n",
    "plt.grid(True)\n",
    "plt.semilogy(snrs_db, bler_unc)\n",
    "plt.semilogy(snrs_db, bler_turbo)\n",
    "plt.xlabel('SNR [dB]')\n",
    "plt.ylabel('Block Error Ratio')\n",
    "plt.legend(['Uncoded (4,4)', 'Turbo (48,0.33)'], loc = 'lower left')\n",
    "plt.show()"
   ]
  },
  {
   "cell_type": "code",
   "execution_count": null,
   "metadata": {},
   "outputs": [],
   "source": []
  }
 ],
 "metadata": {
  "kernelspec": {
   "display_name": "Python 3",
   "language": "python",
   "name": "python3"
  },
  "language_info": {
   "codemirror_mode": {
    "name": "ipython",
    "version": 3
   },
   "file_extension": ".py",
   "mimetype": "text/x-python",
   "name": "python",
   "nbconvert_exporter": "python",
   "pygments_lexer": "ipython3",
   "version": "3.6.7"
  }
 },
 "nbformat": 4,
 "nbformat_minor": 2
}
