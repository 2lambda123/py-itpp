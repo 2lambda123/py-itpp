{
 "cells": [
  {
   "cell_type": "markdown",
   "metadata": {},
   "source": [
    "# Real valued Turbo codes over AWGN channel"
   ]
  },
  {
   "cell_type": "code",
   "execution_count": null,
   "metadata": {},
   "outputs": [],
   "source": [
    "# Imports \n",
    "import py_itpp as pyp\n",
    "from matplotlib import pyplot as plt"
   ]
  },
  {
   "cell_type": "markdown",
   "metadata": {},
   "source": [
    "# BLER for uncoded over AWGN"
   ]
  },
  {
   "cell_type": "code",
   "execution_count": null,
   "metadata": {},
   "outputs": [],
   "source": [
    "def block_error_ratio_uncoded_awgn(snr_db, block_size):\n",
    "    '''Generate random bits'''\n",
    "    nrof_bits = 3 * 10000 * block_size\n",
    "    source_bits = pyp.randb(nrof_bits)\n",
    "    \n",
    "    '''Modulate the bits'''\n",
    "    modulator = pyp.comm.BPSK()\n",
    "    tx_signal = modulator.modulate_bits(source_bits)\n",
    "    \n",
    "    '''Add the effect of channel to the signal'''\n",
    "    noise_variance = pyp.math.inv_dB(-snr_db)\n",
    "    channel = pyp.comm.AWGN_Channel(noisevar=noise_variance)\n",
    "    rx_signal = channel(tx_signal)\n",
    "    \n",
    "    '''Demodulate the signal'''\n",
    "    demodulated_bits = modulator.demodulate_bits(rx_signal)\n",
    "    \n",
    "    '''Calculate the block error ratio'''\n",
    "    blerc = pyp.comm.BLERC(block_size)\n",
    "    blerc.count(source_bits, demodulated_bits)\n",
    "    return blerc.get_errorrate()"
   ]
  },
  {
   "cell_type": "markdown",
   "metadata": {},
   "source": [
    "# BLER for Turbo over AWGN"
   ]
  },
  {
   "cell_type": "code",
   "execution_count": null,
   "metadata": {},
   "outputs": [],
   "source": [
    "def block_error_ratio_turbo_awgn(snr_db, block_size):\n",
    "  '''Create turbo_codec_instance'''\n",
    "  codec = pyp.comm.turbo_codec()\n",
    "  \n",
    "  '''Set codec parameters'''\n",
    "  gen = pyp.ivec(2)\n",
    "  gen[0] = 11\n",
    "  gen[1] = 13\n",
    "  constraint_length = 4\n",
    "  interleaver = pyp.comm.sequence_interleaver_int(block_size)\n",
    "  interleaver.randomize_interleaver_sequence()\n",
    "  codec.set_parameters(gen, gen, constraint_length, interleaver.get_interleaver_sequence())\n",
    "  \n",
    "  '''Generate random bits and encode them'''\n",
    "  nrof_uncoded_bits = interleaver_length * 1000\n",
    "  uncoded_bits = pyp.randb(nrof_uncoded_bits)\n",
    "  encoded_bits = pyp.bvec()\n",
    "  codec.encode(uncoded_bits, encoded_bits)\n",
    "  \n",
    "  '''Modulate bits using BPSK'''\n",
    "  modulator = pyp.comm.BPSK()\n",
    "  tx_signal = modulator.modulate_bits(encoded_bits)\n",
    "  \n",
    "  '''Add AWGN noise'''\n",
    "  noise_variance = pyp.math.inv_dB(-snr_db)\n",
    "  channel = pyp.comm.AWGN_Channel(noisevar=noise_variance)\n",
    "  rx_signal = channel(tx_signal)\n",
    "  \n",
    "  '''Demodulate received signal (soft bits, LOGMAP)'''\n",
    "  soft_bits = pyp.vec()\n",
    "  modulator.demodulate_soft_bits(rx_signal, \n",
    "                                 noise_variance,\n",
    "                                 soft_bits,\n",
    "                                 pyp.comm.soft_method.LOGMAP)\n",
    "\n",
    "  '''Turbo decode the soft bits'''\n",
    "  decoded_bits = pyp.bvec()\n",
    "  codec.decode(soft_bits, decoded_bits, pyp.bvec())\n",
    "    \n",
    "  '''Count errors'''\n",
    "  blerc = pyp.comm.BLERC(interleaver_length)\n",
    "  blerc.count(decoded_bits, uncoded_bits)\n",
    "  return blerc.get_errorrate()"
   ]
  },
  {
   "cell_type": "markdown",
   "metadata": {},
   "source": [
    "# Run simulation"
   ]
  },
  {
   "cell_type": "code",
   "execution_count": null,
   "metadata": {},
   "outputs": [],
   "source": [
    "'''SNR range'''\n",
    "snrs_db = range(-10, 10) \n",
    "block_size = 4\n",
    "\n",
    "print('BLER for uncoded bits over AWGN channel')\n",
    "bler_unc = [block_error_ratio_uncoded_awgn(snr, block_size) for snr in snrs_db]\n",
    "\n",
    "print('BLER for Turbo coded  bits over AWGN channel, block length 48 and code rate 0.33')\n",
    "block_length = 48\n",
    "bler_turbo = [block_error_ratio_turbo_awgn(snr, block_length) for snr in snrs_db]"
   ]
  },
  {
   "cell_type": "markdown",
   "metadata": {},
   "source": [
    "# Plot results"
   ]
  },
  {
   "cell_type": "code",
   "execution_count": null,
   "metadata": {},
   "outputs": [],
   "source": [
    "print('Plotting results')\n",
    "plt.figure()\n",
    "plt.grid(True)\n",
    "plt.semilogy(snrs_db, bler_unc)\n",
    "plt.semilogy(snrs_db, bler_turbo)\n",
    "plt.xlabel('SNR [dB]')\n",
    "plt.ylabel('Block Error Ratio')\n",
    "plt.legend(['Uncoded (4,4)', 'Turbo (48,0.33)'], loc = 'lower left')\n",
    "plt.show()"
   ]
  },
  {
   "cell_type": "code",
   "execution_count": null,
   "metadata": {},
   "outputs": [],
   "source": []
  }
 ],
 "metadata": {
  "kernelspec": {
   "display_name": "Python 3",
   "language": "python",
   "name": "python3"
  },
  "language_info": {
   "codemirror_mode": {
    "name": "ipython",
    "version": 3
   },
   "file_extension": ".py",
   "mimetype": "text/x-python",
   "name": "python",
   "nbconvert_exporter": "python",
   "pygments_lexer": "ipython3",
   "version": "3.6.4"
  }
 },
 "nbformat": 4,
 "nbformat_minor": 2
}
